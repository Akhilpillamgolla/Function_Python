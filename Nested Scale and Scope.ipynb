{
 "cells": [
  {
   "cell_type": "markdown",
   "metadata": {},
   "source": [
    "## Nested Statment And Scope"
   ]
  },
  {
   "cell_type": "code",
   "execution_count": 19,
   "metadata": {},
   "outputs": [],
   "source": [
    "x = 25  # assigning x at global level\n",
    "def printer():\n",
    "    x= 50 # assigning x at local level\n",
    "    return x "
   ]
  },
  {
   "cell_type": "code",
   "execution_count": 16,
   "metadata": {},
   "outputs": [
    {
     "name": "stdout",
     "output_type": "stream",
     "text": [
      "25\n"
     ]
    }
   ],
   "source": [
    "print(x)"
   ]
  },
  {
   "cell_type": "code",
   "execution_count": 20,
   "metadata": {},
   "outputs": [
    {
     "name": "stdout",
     "output_type": "stream",
     "text": [
      "50\n"
     ]
    }
   ],
   "source": [
    "print(printer())"
   ]
  },
  {
   "cell_type": "markdown",
   "metadata": {},
   "source": [
    "how does Python know which x you're referring to in your code? This is where the idea of scope comes in. Python has a set of rules it follows to decide what variables (such as x in this case) you are referencing in your code. Lets break down the rules:</br>\n",
    "\n",
    "This idea of scope in your code is very important to understand in order to properly assign and call variable names.</br>\n",
    "\n",
    "In simple terms, the idea of scope can be described by 3 general rules:</br>\n",
    "\n",
    "Name assignments will create or change local names by default. </br>\n",
    "Name references search (at most) four scopes, these are:</br>\n",
    "</br>\n",
    "> local</br>\n",
    "\n",
    "> enclosing functions</br>\n",
    "\n",
    "> global</br>\n",
    "\n",
    "> built-in</br>\n",
    "\n",
    "Names declared in global and nonlocal statements map assigned names to enclosing module and function scopes.\n",
    "The statement in #2 above can be defined by the LEGB rule.</br>\n",
    "</br>\n",
    "\n",
    "LEGB Rule:\n",
    "\n",
    "L: Local — Names assigned in any way within a function (def or lambda), and not declared global in that function.</br>\n",
    "\n",
    "E: Enclosing function locals — Names in the local scope of any and all enclosing functions (def or lambda), from inner to outer.</br>\n",
    "\n",
    "G: Global (module) — Names assigned at the top-level of a module file, or declared global in a def within the file.</br>\n",
    "\n",
    "B: Built-in (Python) — Names preassigned in the built-in names module : open, range, SyntaxError,..."
   ]
  },
  {
   "cell_type": "code",
   "execution_count": 22,
   "metadata": {},
   "outputs": [
    {
     "name": "stdout",
     "output_type": "stream",
     "text": [
      "<function <lambda> at 0x0000022461858180>\n"
     ]
    }
   ],
   "source": [
    "# x is local here:\n",
    "f = lambda x:x**2  "
   ]
  },
  {
   "cell_type": "markdown",
   "metadata": {},
   "source": [
    "Enclosing function locals</br>\n",
    "This occurs when we have a function inside a function (nested functions)"
   ]
  },
  {
   "cell_type": "code",
   "execution_count": 28,
   "metadata": {},
   "outputs": [
    {
     "name": "stdout",
     "output_type": "stream",
     "text": [
      "Hello Akhil\n"
     ]
    }
   ],
   "source": [
    "# Global \n",
    "name = 'This is a global name'\n",
    "\n",
    "def greet():\n",
    "    # Enclosing function\n",
    "    name = 'Akhil' # if we comment this it run global_name\n",
    "    \n",
    "    def hello():\n",
    "        # local\n",
    "        print('Hello '+name)\n",
    "    \n",
    "    hello()\n",
    "\n",
    "greet() # Hello Akhil"
   ]
  },
  {
   "cell_type": "code",
   "execution_count": 29,
   "metadata": {},
   "outputs": [
    {
     "name": "stdout",
     "output_type": "stream",
     "text": [
      "Hello This is a global name\n"
     ]
    }
   ],
   "source": [
    "# to print global\n",
    "# Global  # least used as we face problem when we have large scripts.it override\n",
    "name = 'This is a global name'\n",
    "\n",
    "def greet():\n",
    "    # Enclosing function\n",
    "    # name = 'Akhil' # if we comment this it run global_name\n",
    "    \n",
    "    def hello():\n",
    "        # local\n",
    "        print('Hello '+name)\n",
    "    \n",
    "    hello()\n",
    "\n",
    "greet() # This is global name"
   ]
  },
  {
   "cell_type": "code",
   "execution_count": 30,
   "metadata": {},
   "outputs": [
    {
     "name": "stdout",
     "output_type": "stream",
     "text": [
      "Hello Pakka Local\n"
     ]
    }
   ],
   "source": [
    "# To print Local \n",
    "# to print global\n",
    "# Global \n",
    "name = 'This is a global name'\n",
    "\n",
    "def greet():\n",
    "    # Enclosing function\n",
    "    # name = 'Akhil' # if we comment this it run global_name\n",
    "    \n",
    "    def hello():\n",
    "        # local\n",
    "        name = 'Pakka Local' # this print this \n",
    "        print('Hello '+name)\n",
    "    \n",
    "    hello()\n",
    "\n",
    "greet() # Pakka Local\n"
   ]
  },
  {
   "cell_type": "markdown",
   "metadata": {},
   "source": [
    "Local Variables </br>\n",
    "\n",
    "When you declare variables inside a function definition, they are not related in any way to other variables with the same names used outside the function - i.e. variable names are local to the function. This is called the <mark>scope of the variable</mark>. All variables have the scope of the block they are declared in starting from the point of definition of the name."
   ]
  },
  {
   "cell_type": "code",
   "execution_count": 32,
   "metadata": {},
   "outputs": [
    {
     "name": "stdout",
     "output_type": "stream",
     "text": [
      "x is 50\n",
      "Changed local x to 200\n",
      "x is still 50\n"
     ]
    }
   ],
   "source": [
    "x = 50 \n",
    "def func(x):\n",
    "    print('x is', x)\n",
    "    x = 200\n",
    "    print('Changed local x to', x)\n",
    "\n",
    "func(x)\n",
    "print('x is still', x) # as 200 is only happen in local bin space."
   ]
  },
  {
   "cell_type": "markdown",
   "metadata": {},
   "source": [
    "### global statement\n",
    "If you want to assign a value to a name defined at the top level of the program (i.e. not inside any kind of scope such as functions or classes), then you have to tell Python that the name is not local, but it is global. We do this using the global statement. It is impossible to assign a value to a variable defined outside a function without the global statement.\n",
    "\n",
    "You can use the values of such variables defined outside the function (assuming there is no variable with the same name within the function). However, this is not encouraged and should be avoided since it becomes unclear to the reader of the program as to where that variable’s definition is. Using the global statement makes it amply clear that the variable is defined in an outermost block."
   ]
  },
  {
   "cell_type": "code",
   "execution_count": 3,
   "metadata": {},
   "outputs": [],
   "source": [
    "x= 50 \n",
    "\n",
    "def func():\n",
    "    global x \n",
    "    print(f'x is {x}')\n",
    "    \n",
    "    #Local Reassigning on a global variable!\n",
    "    x = 'New Value'\n",
    "    print(f'I am locally changed Global x to {x}')\n"
   ]
  },
  {
   "cell_type": "code",
   "execution_count": 35,
   "metadata": {},
   "outputs": [
    {
     "name": "stdout",
     "output_type": "stream",
     "text": [
      "50\n"
     ]
    }
   ],
   "source": [
    "print(x)"
   ]
  },
  {
   "cell_type": "code",
   "execution_count": 4,
   "metadata": {},
   "outputs": [
    {
     "name": "stdout",
     "output_type": "stream",
     "text": [
      "x is 50\n",
      "I am locally changed Global x to New Value\n"
     ]
    }
   ],
   "source": [
    "func(x)"
   ]
  },
  {
   "cell_type": "code",
   "execution_count": 9,
   "metadata": {},
   "outputs": [
    {
     "name": "stdout",
     "output_type": "stream",
     "text": [
      "x is 50\n",
      "I have locally changed Global x to New Value\n"
     ]
    }
   ],
   "source": [
    "x = 50\n",
    "\n",
    "def func(x): # most used as dont override in large scripts\n",
    "    print(f'x is {x}')\n",
    "    # Local Reassigning on a global variable!\n",
    "    x = 'New Value'\n",
    "    print(f'I have locally changed Global x to {x}')\n",
    "    return x"
   ]
  },
  {
   "cell_type": "code",
   "execution_count": 6,
   "metadata": {},
   "outputs": [
    {
     "data": {
      "text/plain": [
       "50"
      ]
     },
     "execution_count": 6,
     "metadata": {},
     "output_type": "execute_result"
    }
   ],
   "source": [
    "x"
   ]
  },
  {
   "cell_type": "code",
   "execution_count": 10,
   "metadata": {},
   "outputs": [
    {
     "name": "stdout",
     "output_type": "stream",
     "text": [
      "x is New Value\n",
      "I have locally changed Global x to New Value\n"
     ]
    }
   ],
   "source": [
    "x = func(x)  # Call the function and assign the result to x"
   ]
  },
  {
   "cell_type": "markdown",
   "metadata": {},
   "source": [
    "globals() and locals() functions to check what are your current local and global variables."
   ]
  },
  {
   "cell_type": "markdown",
   "metadata": {},
   "source": [
    "| Scope | Definition | Accessibility | Example | Symbol |\n",
    "|-------|------------|---------------|---------|--------|\n",
    "| Global | Defined outside any function, accessible anywhere in the program. | Can be read and modified throughout the entire program, including inside functions. | `x = 10` (outside any function) | 🌐 |\n",
    "| Local | Defined within a function, accessible only within that function. | Can be read and modified only within the function it is defined. | `y = 20` (inside a function) | 🔒 |\n",
    "| Nonlocal | Not defined in the global scope or the immediate local scope, used in nested functions. | Can be accessed and modified in nested functions using the `nonlocal` keyword. | `def outer(): z = 30; def inner(): nonlocal z; z = 40` | 🔗 |"
   ]
  }
 ],
 "metadata": {
  "kernelspec": {
   "display_name": "Python 3",
   "language": "python",
   "name": "python3"
  },
  "language_info": {
   "codemirror_mode": {
    "name": "ipython",
    "version": 3
   },
   "file_extension": ".py",
   "mimetype": "text/x-python",
   "name": "python",
   "nbconvert_exporter": "python",
   "pygments_lexer": "ipython3",
   "version": "3.12.2"
  }
 },
 "nbformat": 4,
 "nbformat_minor": 2
}
